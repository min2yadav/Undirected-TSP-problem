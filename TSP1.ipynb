{
  "nbformat": 4,
  "nbformat_minor": 0,
  "metadata": {
    "colab": {
      "provenance": []
    },
    "kernelspec": {
      "name": "python3",
      "display_name": "Python 3"
    },
    "language_info": {
      "name": "python"
    }
  },
  "cells": [
    {
      "cell_type": "code",
      "source": [
        "pip install gekko"
      ],
      "metadata": {
        "colab": {
          "base_uri": "https://localhost:8080/"
        },
        "id": "R1oZgQ-uxhyM",
        "outputId": "d7434d94-1a65-4d4c-e129-2ea8ff7ebe7b"
      },
      "execution_count": 1,
      "outputs": [
        {
          "output_type": "stream",
          "name": "stdout",
          "text": [
            "Looking in indexes: https://pypi.org/simple, https://us-python.pkg.dev/colab-wheels/public/simple/\n",
            "Collecting gekko\n",
            "  Downloading gekko-1.0.6-py3-none-any.whl (12.2 MB)\n",
            "\u001b[2K     \u001b[90m━━━━━━━━━━━━━━━━━━━━━━━━━━━━━━━━━━━━━━━━\u001b[0m \u001b[32m12.2/12.2 MB\u001b[0m \u001b[31m47.0 MB/s\u001b[0m eta \u001b[36m0:00:00\u001b[0m\n",
            "\u001b[?25hRequirement already satisfied: numpy>=1.8 in /usr/local/lib/python3.9/dist-packages (from gekko) (1.22.4)\n",
            "Installing collected packages: gekko\n",
            "Successfully installed gekko-1.0.6\n"
          ]
        }
      ]
    },
    {
      "cell_type": "code",
      "source": [
        "from gekko import GEKKO"
      ],
      "metadata": {
        "id": "F8rhGwdofTLG"
      },
      "execution_count": 2,
      "outputs": []
    },
    {
      "cell_type": "code",
      "source": [
        "model = GEKKO()\n",
        "model.options.SOLVER=1\n",
        "\n",
        "model.solver_options = ['minlp_maximum_iterations 500', \\\n",
        "                    \n",
        "                    'minlp_max_iter_with_int_sol 10', \\\n",
        "                    \n",
        "                    'nlp_maximum_iterations 50', \\\n",
        "                    \n",
        "                    'minlp_integer_tol 0.05', \\\n",
        "                    \n",
        "                    'minlp_gap_tol 0.01']\n",
        "\n",
        "#Definig the decision variables\n",
        "x1 = model.Var(lb=0,ub=20,integer=True)\n",
        "x2 = model.Var(lb=0,ub=20,integer=True)\n",
        "x3 = model.Var(lb=0,ub=20,integer=True)\n",
        "\n",
        "\n",
        "#Defining the objective function\n",
        "model.Minimize((10*((x1 - 4)**3)) + ((x2 - 7)**3) + (20*((x3 - 2)**3)))\n",
        "\n",
        "\n",
        "#Defining the comstraints\n",
        "model.Equation(x1+x2+x3==20)"
      ],
      "metadata": {
        "id": "Y49duamfnJvH",
        "colab": {
          "base_uri": "https://localhost:8080/"
        },
        "outputId": "76a00c89-f6a1-45fa-f408-ca03a0416358"
      },
      "execution_count": 3,
      "outputs": [
        {
          "output_type": "execute_result",
          "data": {
            "text/plain": [
              "<gekko.gekko.EquationObj at 0x7f50745335b0>"
            ]
          },
          "metadata": {},
          "execution_count": 3
        }
      ]
    },
    {
      "cell_type": "code",
      "source": [
        "model.solve(disp=False)\n",
        "milp_obj = model.options.objfcnval"
      ],
      "metadata": {
        "id": "mnaF49IJf5n6"
      },
      "execution_count": 4,
      "outputs": []
    },
    {
      "cell_type": "code",
      "source": [
        "print('The value of x1 is ', x1.value)\n",
        "print('The value of x2 is ',  x2.value)\n",
        "print('The value of x3 is ', x3.value)\n",
        "print('The Objective value is as follows ', model.options.objfcnval)"
      ],
      "metadata": {
        "colab": {
          "base_uri": "https://localhost:8080/"
        },
        "id": "TPKpyYXEf_2V",
        "outputId": "1cb513a1-e2fd-4d35-f6bc-77c927d6321d"
      },
      "execution_count": 5,
      "outputs": [
        {
          "output_type": "stream",
          "name": "stdout",
          "text": [
            "The value of x1 is  [5.0]\n",
            "The value of x2 is  [12.0]\n",
            "The value of x3 is  [3.0]\n",
            "The Objective value is as follows  155.0\n"
          ]
        }
      ]
    },
    {
      "cell_type": "markdown",
      "source": [
        "\n",
        "$x_1 = 5$, $x_2 = 12$, $x_3 = 3$\n",
        "with objective value = $155$"
      ],
      "metadata": {
        "id": "88151se3ZgWb"
      }
    },
    {
      "cell_type": "code",
      "source": [
        "!pip install -q pyomo"
      ],
      "metadata": {
        "id": "c4VNbh-PSIpR",
        "colab": {
          "base_uri": "https://localhost:8080/"
        },
        "outputId": "bd12fb8a-664c-4e3b-cec3-4362e2db369e"
      },
      "execution_count": 6,
      "outputs": [
        {
          "output_type": "stream",
          "name": "stdout",
          "text": [
            "\u001b[2K     \u001b[90m━━━━━━━━━━━━━━━━━━━━━━━━━━━━━━━━━━━━━━━━\u001b[0m \u001b[32m11.0/11.0 MB\u001b[0m \u001b[31m42.7 MB/s\u001b[0m eta \u001b[36m0:00:00\u001b[0m\n",
            "\u001b[2K     \u001b[90m━━━━━━━━━━━━━━━━━━━━━━━━━━━━━━━━━━━━━━━━\u001b[0m \u001b[32m49.6/49.6 kB\u001b[0m \u001b[31m2.7 MB/s\u001b[0m eta \u001b[36m0:00:00\u001b[0m\n",
            "\u001b[?25h"
          ]
        }
      ]
    },
    {
      "cell_type": "code",
      "source": [
        "import numpy as np\n",
        "from pyomo.environ import * "
      ],
      "metadata": {
        "id": "K44h3iQeOwq9"
      },
      "execution_count": 7,
      "outputs": []
    },
    {
      "cell_type": "code",
      "source": [
        "ls = [[], [], []]\n",
        "for i in range(0, 21, 1):\n",
        "  ls[0].append(10*(i-4)**3)\n",
        "  ls[1].append((i-7)**3)\n",
        "  ls[2].append( 20*(i-2)**3)"
      ],
      "metadata": {
        "id": "30Rbo8ZyOdTJ"
      },
      "execution_count": 8,
      "outputs": []
    },
    {
      "cell_type": "code",
      "source": [
        "model_ = ConcreteModel()"
      ],
      "metadata": {
        "id": "rORilRQeSdLI"
      },
      "execution_count": 9,
      "outputs": []
    },
    {
      "cell_type": "code",
      "source": [
        "model_.lmda1 = Var(range(len(ls[0])),domain=NonNegativeReals, bounds=(0,1))\n",
        "model_.lmda2 = Var(range(len(ls[0])),domain=NonNegativeReals, bounds=(0,1))\n",
        "model_.lmda3 = Var(range(len(ls[0])),domain=NonNegativeReals, bounds=(0,1))\n",
        "model_.x1 = Var(range(len(ls[0])),domain=Binary)\n",
        "model_.x2 = Var(range(len(ls[0])),domain=Binary)\n",
        "model_.x3 = Var(range(len(ls[0])),domain=Binary)"
      ],
      "metadata": {
        "id": "2JfFai58QspJ"
      },
      "execution_count": 10,
      "outputs": []
    },
    {
      "cell_type": "code",
      "source": [
        "model_.obj = Objective(expr=summation(ls[0], model_.lmda1)+summation(ls[1], model_.lmda2)+summation(ls[2], model_.lmda3),sense=minimize)"
      ],
      "metadata": {
        "id": "Ro2CXuppQxgw"
      },
      "execution_count": 11,
      "outputs": []
    },
    {
      "cell_type": "code",
      "source": [
        "model_.constraints = ConstraintList()"
      ],
      "metadata": {
        "id": "_WndG3q-Qy25"
      },
      "execution_count": 12,
      "outputs": []
    },
    {
      "cell_type": "code",
      "source": [
        "model_.constraints.add(summation(model_.lmda1) == 1)\n",
        "model_.constraints.add(summation(model_.lmda2) == 1)\n",
        "model_.constraints.add(summation(model_.lmda3) == 1)\n",
        "model_.constraints.add(summation([i for i in range(0,21)], model_.lmda1) + summation([i for i in range(0,21)], model_.lmda2) + summation([i for i in range(0,21)], model_.lmda3) == 20)"
      ],
      "metadata": {
        "id": "ACJxASj3Q11M",
        "colab": {
          "base_uri": "https://localhost:8080/"
        },
        "outputId": "5c9e8f89-bdff-4755-dd9c-5dd0d9f113d3"
      },
      "execution_count": 13,
      "outputs": [
        {
          "output_type": "execute_result",
          "data": {
            "text/plain": [
              "<pyomo.core.base.constraint._GeneralConstraintData at 0x7f5064ebafa0>"
            ]
          },
          "metadata": {},
          "execution_count": 13
        }
      ]
    },
    {
      "cell_type": "code",
      "source": [
        "for i in range(len(ls[0])):\n",
        "  model_.constraints.add( model_.lmda1[i] - model_.x1[i] <= 0)\n",
        "  model_.constraints.add( model_.lmda2[i] - model_.x2[i] <= 0)\n",
        "  model_.constraints.add( model_.lmda3[i] - model_.x3[i] <= 0)"
      ],
      "metadata": {
        "id": "2L8EyK5yZz7N"
      },
      "execution_count": 14,
      "outputs": []
    },
    {
      "cell_type": "code",
      "source": [
        "temp_ls = []\n",
        "for i in range(len(ls[0])):\n",
        "  for j in range(len(ls[0])):\n",
        "    if i!=j-1 and i!=j+1 and i!=j:\n",
        "      if (j,i) in temp_ls:\n",
        "        pass\n",
        "      else:\n",
        "        temp_ls.append((i,j))"
      ],
      "metadata": {
        "id": "vJ6AxBoIazTD"
      },
      "execution_count": 15,
      "outputs": []
    },
    {
      "cell_type": "code",
      "source": [
        "for index in temp_ls:\n",
        "  model_.constraints.add(model_.x1[index[0]] + model_.x1[index[1]] <= 1)\n",
        "  model_.constraints.add(model_.x2[index[0]] + model_.x2[index[1]] <= 1)\n",
        "  model_.constraints.add(model_.x3[index[0]] + model_.x3[index[1]] <= 1)"
      ],
      "metadata": {
        "id": "yiIOQIs7dN_y"
      },
      "execution_count": 16,
      "outputs": []
    },
    {
      "cell_type": "code",
      "source": [
        "model_.constraints.add(summation(model_.x1) <= 2)\n",
        "model_.constraints.add(summation(model_.x2) <= 2)\n",
        "model_.constraints.add(summation(model_.x3) <= 2)"
      ],
      "metadata": {
        "colab": {
          "base_uri": "https://localhost:8080/"
        },
        "id": "LOB9rtUgd-VQ",
        "outputId": "faa2570b-8403-4641-fbcb-e8670c1a35f3"
      },
      "execution_count": 17,
      "outputs": [
        {
          "output_type": "execute_result",
          "data": {
            "text/plain": [
              "<pyomo.core.base.constraint._GeneralConstraintData at 0x7f5064e72e20>"
            ]
          },
          "metadata": {},
          "execution_count": 17
        }
      ]
    },
    {
      "cell_type": "code",
      "source": [
        "!apt-get install -y -qq coinor-cbc"
      ],
      "metadata": {
        "id": "hRPO1_a6Q7Yh",
        "colab": {
          "base_uri": "https://localhost:8080/"
        },
        "outputId": "541581d2-c034-4932-ed2e-0c6fe00aa7ae"
      },
      "execution_count": 18,
      "outputs": [
        {
          "output_type": "stream",
          "name": "stdout",
          "text": [
            "Selecting previously unselected package coinor-libcoinutils3v5.\n",
            "(Reading database ... 122349 files and directories currently installed.)\n",
            "Preparing to unpack .../0-coinor-libcoinutils3v5_2.11.4+repack1-1_amd64.deb ...\n",
            "Unpacking coinor-libcoinutils3v5 (2.11.4+repack1-1) ...\n",
            "Selecting previously unselected package coinor-libosi1v5.\n",
            "Preparing to unpack .../1-coinor-libosi1v5_0.108.6+repack1-1_amd64.deb ...\n",
            "Unpacking coinor-libosi1v5 (0.108.6+repack1-1) ...\n",
            "Selecting previously unselected package coinor-libclp1.\n",
            "Preparing to unpack .../2-coinor-libclp1_1.17.5+repack1-1_amd64.deb ...\n",
            "Unpacking coinor-libclp1 (1.17.5+repack1-1) ...\n",
            "Selecting previously unselected package coinor-libcgl1.\n",
            "Preparing to unpack .../3-coinor-libcgl1_0.60.3+repack1-2_amd64.deb ...\n",
            "Unpacking coinor-libcgl1 (0.60.3+repack1-2) ...\n",
            "Selecting previously unselected package coinor-libcbc3.\n",
            "Preparing to unpack .../4-coinor-libcbc3_2.10.3+repack1-1build1_amd64.deb ...\n",
            "Unpacking coinor-libcbc3 (2.10.3+repack1-1build1) ...\n",
            "Selecting previously unselected package coinor-cbc.\n",
            "Preparing to unpack .../5-coinor-cbc_2.10.3+repack1-1build1_amd64.deb ...\n",
            "Unpacking coinor-cbc (2.10.3+repack1-1build1) ...\n",
            "Setting up coinor-libcoinutils3v5 (2.11.4+repack1-1) ...\n",
            "Setting up coinor-libosi1v5 (0.108.6+repack1-1) ...\n",
            "Setting up coinor-libclp1 (1.17.5+repack1-1) ...\n",
            "Setting up coinor-libcgl1 (0.60.3+repack1-2) ...\n",
            "Setting up coinor-libcbc3 (2.10.3+repack1-1build1) ...\n",
            "Setting up coinor-cbc (2.10.3+repack1-1build1) ...\n",
            "Processing triggers for man-db (2.9.1-1) ...\n",
            "Processing triggers for libc-bin (2.31-0ubuntu9.9) ...\n"
          ]
        }
      ]
    },
    {
      "cell_type": "code",
      "source": [
        "opt_cbc = SolverFactory('cbc')"
      ],
      "metadata": {
        "id": "7Yn-lnBZQ87Y"
      },
      "execution_count": 19,
      "outputs": []
    },
    {
      "cell_type": "code",
      "source": [
        "result = opt_cbc.solve(model_)\n",
        "print('Solver status:', result.solver.status)\n",
        "print('Solver termination condition:',result.solver.termination_condition)"
      ],
      "metadata": {
        "id": "_JUJcMTXQ_Hy",
        "colab": {
          "base_uri": "https://localhost:8080/"
        },
        "outputId": "78ff5d00-c722-4c89-c160-3aac32aecc2d"
      },
      "execution_count": 20,
      "outputs": [
        {
          "output_type": "stream",
          "name": "stdout",
          "text": [
            "Solver status: ok\n",
            "Solver termination condition: optimal\n"
          ]
        }
      ]
    },
    {
      "cell_type": "code",
      "source": [
        "print('\\nObjective = ', model_.obj())"
      ],
      "metadata": {
        "colab": {
          "base_uri": "https://localhost:8080/"
        },
        "id": "iF6w-T6aea27",
        "outputId": "75128f5d-ba13-459e-da6d-8dd5d99799d7"
      },
      "execution_count": 21,
      "outputs": [
        {
          "output_type": "stream",
          "name": "stdout",
          "text": [
            "\n",
            "Objective =  155.0\n"
          ]
        }
      ]
    },
    {
      "cell_type": "markdown",
      "source": [
        "We can see that the approximate objective value is identical to the nonlinear model's ideal objective value, hence the error % is 0."
      ],
      "metadata": {
        "id": "48d6rCFZbM6Z"
      }
    }
  ]
}