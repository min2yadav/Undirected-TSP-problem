{
  "cells": [
    {
      "cell_type": "code",
      "execution_count": 4,
      "metadata": {
        "colab": {
          "base_uri": "https://localhost:8080/"
        },
        "id": "1r_yYUofSTFB",
        "outputId": "38bab578-2471-40f7-cf5d-8eb7d8cd07fb"
      },
      "outputs": [
        {
          "output_type": "stream",
          "name": "stdout",
          "text": [
            "Reading package lists...\n",
            "Building dependency tree...\n",
            "Reading state information...\n",
            "coinor-cbc is already the newest version (2.10.3+repack1-1build1).\n",
            "0 upgraded, 0 newly installed, 0 to remove and 24 not upgraded.\n"
          ]
        }
      ],
      "source": [
        "!pip install -q pyomo\n",
        "!apt install -y -q coinor-cbc"
      ]
    },
    {
      "cell_type": "code",
      "execution_count": 5,
      "metadata": {
        "id": "j4opCPZrSak0"
      },
      "outputs": [],
      "source": [
        "import numpy as np\n",
        "import pandas as pd\n",
        "from pyomo.environ import *"
      ]
    },
    {
      "cell_type": "code",
      "execution_count": 6,
      "metadata": {
        "colab": {
          "base_uri": "https://localhost:8080/",
          "height": 299
        },
        "id": "x0et1dFyxkM2",
        "outputId": "c78ef3a8-b098-48b8-9831-06b71b020bac"
      },
      "outputs": [
        {
          "output_type": "execute_result",
          "data": {
            "text/plain": [
              "          Sangli  Satara  Kolhapur  Pune  Akola  Amravati  Yavatmal  \\\n",
              "Sangli         0     122        47   230    683       751       779   \n",
              "Satara       122       0       122   110    575       643       671   \n",
              "Kolhapur      47     122         0   230    726       794       822   \n",
              "Pune         230     110       230     0    505       573       601   \n",
              "Akola        683     575       726   505      0        98       166   \n",
              "\n",
              "          Aurangabad  Jalna  Osmanabad  ...  Nagpur  Wardha  Nandurbar  \\\n",
              "Sangli           499    475        257  ...     890     818        659   \n",
              "Satara           306    369        307  ...     782     710        538   \n",
              "Kolhapur         426    518        299  ...     933     861        659   \n",
              "Pune             236    300        316  ...     712     641        423   \n",
              "Akola            250    197        428  ...     277     205        344   \n",
              "\n",
              "          Nashik  Ahmednagar  Palghar  Raigad  Ratnagiri  Sindhudurg  Mumbai  \n",
              "Sangli       449         294      470     265        172         178     373  \n",
              "Satara       328         193      350     142        192         254     253  \n",
              "Kolhapur     449         313      470     264        132         129     373  \n",
              "Pune         213         123      248     139        303         368     151  \n",
              "Akola        421         386      568     655        769         857     575  \n",
              "\n",
              "[5 rows x 25 columns]"
            ],
            "text/html": [
              "\n",
              "  <div id=\"df-e7215633-a43c-4589-8a47-7e664484a87b\">\n",
              "    <div class=\"colab-df-container\">\n",
              "      <div>\n",
              "<style scoped>\n",
              "    .dataframe tbody tr th:only-of-type {\n",
              "        vertical-align: middle;\n",
              "    }\n",
              "\n",
              "    .dataframe tbody tr th {\n",
              "        vertical-align: top;\n",
              "    }\n",
              "\n",
              "    .dataframe thead th {\n",
              "        text-align: right;\n",
              "    }\n",
              "</style>\n",
              "<table border=\"1\" class=\"dataframe\">\n",
              "  <thead>\n",
              "    <tr style=\"text-align: right;\">\n",
              "      <th></th>\n",
              "      <th>Sangli</th>\n",
              "      <th>Satara</th>\n",
              "      <th>Kolhapur</th>\n",
              "      <th>Pune</th>\n",
              "      <th>Akola</th>\n",
              "      <th>Amravati</th>\n",
              "      <th>Yavatmal</th>\n",
              "      <th>Aurangabad</th>\n",
              "      <th>Jalna</th>\n",
              "      <th>Osmanabad</th>\n",
              "      <th>...</th>\n",
              "      <th>Nagpur</th>\n",
              "      <th>Wardha</th>\n",
              "      <th>Nandurbar</th>\n",
              "      <th>Nashik</th>\n",
              "      <th>Ahmednagar</th>\n",
              "      <th>Palghar</th>\n",
              "      <th>Raigad</th>\n",
              "      <th>Ratnagiri</th>\n",
              "      <th>Sindhudurg</th>\n",
              "      <th>Mumbai</th>\n",
              "    </tr>\n",
              "  </thead>\n",
              "  <tbody>\n",
              "    <tr>\n",
              "      <th>Sangli</th>\n",
              "      <td>0</td>\n",
              "      <td>122</td>\n",
              "      <td>47</td>\n",
              "      <td>230</td>\n",
              "      <td>683</td>\n",
              "      <td>751</td>\n",
              "      <td>779</td>\n",
              "      <td>499</td>\n",
              "      <td>475</td>\n",
              "      <td>257</td>\n",
              "      <td>...</td>\n",
              "      <td>890</td>\n",
              "      <td>818</td>\n",
              "      <td>659</td>\n",
              "      <td>449</td>\n",
              "      <td>294</td>\n",
              "      <td>470</td>\n",
              "      <td>265</td>\n",
              "      <td>172</td>\n",
              "      <td>178</td>\n",
              "      <td>373</td>\n",
              "    </tr>\n",
              "    <tr>\n",
              "      <th>Satara</th>\n",
              "      <td>122</td>\n",
              "      <td>0</td>\n",
              "      <td>122</td>\n",
              "      <td>110</td>\n",
              "      <td>575</td>\n",
              "      <td>643</td>\n",
              "      <td>671</td>\n",
              "      <td>306</td>\n",
              "      <td>369</td>\n",
              "      <td>307</td>\n",
              "      <td>...</td>\n",
              "      <td>782</td>\n",
              "      <td>710</td>\n",
              "      <td>538</td>\n",
              "      <td>328</td>\n",
              "      <td>193</td>\n",
              "      <td>350</td>\n",
              "      <td>142</td>\n",
              "      <td>192</td>\n",
              "      <td>254</td>\n",
              "      <td>253</td>\n",
              "    </tr>\n",
              "    <tr>\n",
              "      <th>Kolhapur</th>\n",
              "      <td>47</td>\n",
              "      <td>122</td>\n",
              "      <td>0</td>\n",
              "      <td>230</td>\n",
              "      <td>726</td>\n",
              "      <td>794</td>\n",
              "      <td>822</td>\n",
              "      <td>426</td>\n",
              "      <td>518</td>\n",
              "      <td>299</td>\n",
              "      <td>...</td>\n",
              "      <td>933</td>\n",
              "      <td>861</td>\n",
              "      <td>659</td>\n",
              "      <td>449</td>\n",
              "      <td>313</td>\n",
              "      <td>470</td>\n",
              "      <td>264</td>\n",
              "      <td>132</td>\n",
              "      <td>129</td>\n",
              "      <td>373</td>\n",
              "    </tr>\n",
              "    <tr>\n",
              "      <th>Pune</th>\n",
              "      <td>230</td>\n",
              "      <td>110</td>\n",
              "      <td>230</td>\n",
              "      <td>0</td>\n",
              "      <td>505</td>\n",
              "      <td>573</td>\n",
              "      <td>601</td>\n",
              "      <td>236</td>\n",
              "      <td>300</td>\n",
              "      <td>316</td>\n",
              "      <td>...</td>\n",
              "      <td>712</td>\n",
              "      <td>641</td>\n",
              "      <td>423</td>\n",
              "      <td>213</td>\n",
              "      <td>123</td>\n",
              "      <td>248</td>\n",
              "      <td>139</td>\n",
              "      <td>303</td>\n",
              "      <td>368</td>\n",
              "      <td>151</td>\n",
              "    </tr>\n",
              "    <tr>\n",
              "      <th>Akola</th>\n",
              "      <td>683</td>\n",
              "      <td>575</td>\n",
              "      <td>726</td>\n",
              "      <td>505</td>\n",
              "      <td>0</td>\n",
              "      <td>98</td>\n",
              "      <td>166</td>\n",
              "      <td>250</td>\n",
              "      <td>197</td>\n",
              "      <td>428</td>\n",
              "      <td>...</td>\n",
              "      <td>277</td>\n",
              "      <td>205</td>\n",
              "      <td>344</td>\n",
              "      <td>421</td>\n",
              "      <td>386</td>\n",
              "      <td>568</td>\n",
              "      <td>655</td>\n",
              "      <td>769</td>\n",
              "      <td>857</td>\n",
              "      <td>575</td>\n",
              "    </tr>\n",
              "  </tbody>\n",
              "</table>\n",
              "<p>5 rows × 25 columns</p>\n",
              "</div>\n",
              "      <button class=\"colab-df-convert\" onclick=\"convertToInteractive('df-e7215633-a43c-4589-8a47-7e664484a87b')\"\n",
              "              title=\"Convert this dataframe to an interactive table.\"\n",
              "              style=\"display:none;\">\n",
              "        \n",
              "  <svg xmlns=\"http://www.w3.org/2000/svg\" height=\"24px\"viewBox=\"0 0 24 24\"\n",
              "       width=\"24px\">\n",
              "    <path d=\"M0 0h24v24H0V0z\" fill=\"none\"/>\n",
              "    <path d=\"M18.56 5.44l.94 2.06.94-2.06 2.06-.94-2.06-.94-.94-2.06-.94 2.06-2.06.94zm-11 1L8.5 8.5l.94-2.06 2.06-.94-2.06-.94L8.5 2.5l-.94 2.06-2.06.94zm10 10l.94 2.06.94-2.06 2.06-.94-2.06-.94-.94-2.06-.94 2.06-2.06.94z\"/><path d=\"M17.41 7.96l-1.37-1.37c-.4-.4-.92-.59-1.43-.59-.52 0-1.04.2-1.43.59L10.3 9.45l-7.72 7.72c-.78.78-.78 2.05 0 2.83L4 21.41c.39.39.9.59 1.41.59.51 0 1.02-.2 1.41-.59l7.78-7.78 2.81-2.81c.8-.78.8-2.07 0-2.86zM5.41 20L4 18.59l7.72-7.72 1.47 1.35L5.41 20z\"/>\n",
              "  </svg>\n",
              "      </button>\n",
              "      \n",
              "  <style>\n",
              "    .colab-df-container {\n",
              "      display:flex;\n",
              "      flex-wrap:wrap;\n",
              "      gap: 12px;\n",
              "    }\n",
              "\n",
              "    .colab-df-convert {\n",
              "      background-color: #E8F0FE;\n",
              "      border: none;\n",
              "      border-radius: 50%;\n",
              "      cursor: pointer;\n",
              "      display: none;\n",
              "      fill: #1967D2;\n",
              "      height: 32px;\n",
              "      padding: 0 0 0 0;\n",
              "      width: 32px;\n",
              "    }\n",
              "\n",
              "    .colab-df-convert:hover {\n",
              "      background-color: #E2EBFA;\n",
              "      box-shadow: 0px 1px 2px rgba(60, 64, 67, 0.3), 0px 1px 3px 1px rgba(60, 64, 67, 0.15);\n",
              "      fill: #174EA6;\n",
              "    }\n",
              "\n",
              "    [theme=dark] .colab-df-convert {\n",
              "      background-color: #3B4455;\n",
              "      fill: #D2E3FC;\n",
              "    }\n",
              "\n",
              "    [theme=dark] .colab-df-convert:hover {\n",
              "      background-color: #434B5C;\n",
              "      box-shadow: 0px 1px 3px 1px rgba(0, 0, 0, 0.15);\n",
              "      filter: drop-shadow(0px 1px 2px rgba(0, 0, 0, 0.3));\n",
              "      fill: #FFFFFF;\n",
              "    }\n",
              "  </style>\n",
              "\n",
              "      <script>\n",
              "        const buttonEl =\n",
              "          document.querySelector('#df-e7215633-a43c-4589-8a47-7e664484a87b button.colab-df-convert');\n",
              "        buttonEl.style.display =\n",
              "          google.colab.kernel.accessAllowed ? 'block' : 'none';\n",
              "\n",
              "        async function convertToInteractive(key) {\n",
              "          const element = document.querySelector('#df-e7215633-a43c-4589-8a47-7e664484a87b');\n",
              "          const dataTable =\n",
              "            await google.colab.kernel.invokeFunction('convertToInteractive',\n",
              "                                                     [key], {});\n",
              "          if (!dataTable) return;\n",
              "\n",
              "          const docLinkHtml = 'Like what you see? Visit the ' +\n",
              "            '<a target=\"_blank\" href=https://colab.research.google.com/notebooks/data_table.ipynb>data table notebook</a>'\n",
              "            + ' to learn more about interactive tables.';\n",
              "          element.innerHTML = '';\n",
              "          dataTable['output_type'] = 'display_data';\n",
              "          await google.colab.output.renderOutput(dataTable, element);\n",
              "          const docLink = document.createElement('div');\n",
              "          docLink.innerHTML = docLinkHtml;\n",
              "          element.appendChild(docLink);\n",
              "        }\n",
              "      </script>\n",
              "    </div>\n",
              "  </div>\n",
              "  "
            ]
          },
          "metadata": {},
          "execution_count": 6
        }
      ],
      "source": [
        "distances = pd.read_excel(\"/content/distance_matirx.xlsx\", index_col=0)\n",
        "distances.head()"
      ]
    },
    {
      "cell_type": "code",
      "execution_count": 7,
      "metadata": {
        "id": "Vr24esTy8JBH"
      },
      "outputs": [],
      "source": [
        "def TSPModel(distance):\n",
        "    Len = len(distance)\n",
        "    mod = ConcreteModel()\n",
        "\n",
        "    mod.x = Var(range(Len), range(Len), domain=Binary)\n",
        "    mod.u = Var(range(Len), domain=PositiveIntegers)\n",
        "        \n",
        "    mod.constraints = ConstraintList()\n",
        "    for i in range(Len):\n",
        "        mod.constraints.add(sum(mod.x[i, l] for l in range(Len) if i != l) == 1)\n",
        "        mod.constraints.add(sum(mod.x[l, i] for l in range(Len) if i != l) == 1)\n",
        "\n",
        "    mod.constraints.add(mod.u[0] == 1)\n",
        "    for i in range(1, Len):\n",
        "        mod.u[i].setlb(2)\n",
        "        mod.u[i].setub(Len)\n",
        "        if i!=0 :\n",
        "            for j in range(Len):\n",
        "                if j != 0:\n",
        "                    mod.constraints.add(mod.u[i] - mod.u[j] + 1 <= (Len-1)*(1-mod.x[i, j]))\n",
        "        \n",
        "    # Model objective funciton defined\n",
        "    mod.objective = Objective(expr=sum(distance[i, j]*mod.x[i, j] for i in range(Len) for j in range(Len)))\n",
        "    \n",
        "    return mod"
      ]
    },
    {
      "cell_type": "code",
      "execution_count": 8,
      "metadata": {
        "id": "RuxTA6eq9EYY"
      },
      "outputs": [],
      "source": [
        "distance_cities = distances.to_numpy()\n",
        "TSPmodel = TSPModel(distance_cities)"
      ]
    },
    {
      "cell_type": "code",
      "source": [
        "integer_solver = SolverFactory(\"cbc\", executable='/usr/bin/cbc')"
      ],
      "metadata": {
        "id": "g-oE3faK51nD"
      },
      "execution_count": 9,
      "outputs": []
    },
    {
      "cell_type": "code",
      "execution_count": 10,
      "metadata": {
        "colab": {
          "base_uri": "https://localhost:8080/"
        },
        "id": "-qX9sCrwFb90",
        "outputId": "1df3caaa-676e-42ab-e13b-ac5d8e1f41b0"
      },
      "outputs": [
        {
          "output_type": "stream",
          "name": "stdout",
          "text": [
            "\n",
            "Problem: \n",
            "- Name: unknown\n",
            "  Lower bound: 3600.0\n",
            "  Upper bound: 3600.0\n",
            "  Number of objectives: 1\n",
            "  Number of constraints: 602\n",
            "  Number of variables: 624\n",
            "  Number of binary variables: 624\n",
            "  Number of integer variables: 649\n",
            "  Number of nonzeros: 600\n",
            "  Sense: minimize\n",
            "Solver: \n",
            "- Status: ok\n",
            "  User time: -1.0\n",
            "  System time: 22.24\n",
            "  Wallclock time: 24.34\n",
            "  Termination condition: optimal\n",
            "  Termination message: Model was solved to optimality (subject to tolerances), and an optimal solution is available.\n",
            "  Statistics: \n",
            "    Branch and bound: \n",
            "      Number of bounded subproblems: 1210\n",
            "      Number of created subproblems: 1210\n",
            "    Black box: \n",
            "      Number of iterations: 71571\n",
            "  Error rc: 0\n",
            "  Time: 24.412513494491577\n",
            "Solution: \n",
            "- number of solutions: 0\n",
            "  number of solutions displayed: 0\n",
            "\n",
            "Status of TSP solver :  ok\n",
            "Termination Condition of TSP solver:  optimal\n"
          ]
        }
      ],
      "source": [
        "Answer =integer_solver.solve(TSPmodel)\n",
        "print(Answer)\n",
        "print(\"Status of TSP solver : \", Answer.solver.status)\n",
        "print(\"Termination Condition of TSP solver: \", Answer.solver.termination_condition)"
      ]
    },
    {
      "cell_type": "code",
      "execution_count": 11,
      "metadata": {
        "colab": {
          "base_uri": "https://localhost:8080/"
        },
        "id": "xEIKa2x8FsMh",
        "outputId": "71f3500c-9632-4702-83e8-1ff11ceb2c82"
      },
      "outputs": [
        {
          "output_type": "stream",
          "name": "stdout",
          "text": [
            "Minimized Objective value :  3600.0\n"
          ]
        }
      ],
      "source": [
        "print(\"Minimized Objective value : \", TSPmodel.objective())"
      ]
    },
    {
      "cell_type": "markdown",
      "source": [
        "By minimising the distance travelled while taking into account all the constraints, we were able to use the Travelling Salesman Problem model to resolve the issue.\n",
        "Time taken : 21 secs\n",
        "\n",
        "Solver used : cbc"
      ],
      "metadata": {
        "id": "UWQ2dVi5a29h"
      }
    }
  ],
  "metadata": {
    "colab": {
      "provenance": []
    },
    "kernelspec": {
      "display_name": "Python 3",
      "name": "python3"
    }
  },
  "nbformat": 4,
  "nbformat_minor": 0
}